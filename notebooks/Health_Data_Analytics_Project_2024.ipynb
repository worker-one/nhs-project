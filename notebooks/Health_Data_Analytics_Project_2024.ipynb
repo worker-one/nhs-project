{
 "cells": [
  {
   "cell_type": "markdown",
   "id": "833fc93b",
   "metadata": {
    "id": "833fc93b"
   },
   "source": [
    "## Task 1: Domain Analysis  (5 marks)"
   ]
  },
  {
   "cell_type": "markdown",
   "id": "RbtRJd18asfN",
   "metadata": {
    "id": "RbtRJd18asfN"
   },
   "source": [
    "Given the business domain and the data overview presented (in the assessment paper), provide a brief description of\n",
    "\n",
    "* the business problem and its significance to the relevant sector;\n",
    "* the link between the business problem and the field of data science;\n",
    "* the main areas of investigation; and\n",
    "* potential ideas and solutions.\n",
    "\n",
    "\n",
    "**Word Limit:** 300 words"
   ]
  },
  {
   "cell_type": "markdown",
   "id": "LQ_p4Qitu334",
   "metadata": {
    "id": "LQ_p4Qitu334"
   },
   "source": [
    "**Write your answer here (text cell(s) to be used, as appropriate)**"
   ]
  },
  {
   "cell_type": "code",
   "execution_count": null,
   "id": "G8kyLn-xXG9O",
   "metadata": {
    "id": "G8kyLn-xXG9O"
   },
   "outputs": [],
   "source": [
    "### Write your answer here (code cell(s) to be used, as appropriate)\n"
   ]
  },
  {
   "cell_type": "markdown",
   "id": "326757ae",
   "metadata": {
    "id": "326757ae"
   },
   "source": [
    "\n",
    "----\n",
    "----\n"
   ]
  },
  {
   "cell_type": "markdown",
   "id": "f2f0a14c",
   "metadata": {
    "id": "f2f0a14c"
   },
   "source": [
    "## Task 2: Database Design (30 marks)\n"
   ]
  },
  {
   "cell_type": "markdown",
   "id": "dC2nOMbbU5AG",
   "metadata": {
    "id": "dC2nOMbbU5AG"
   },
   "source": [
    "(**10 marks**) Design a conceptual database schema for the given NHS context, represented as an entity-relationship (ER) diagram using Chen's notation (as taught in the module). Your ER diagram should capture all the essential entities, attributes, primary keys, relationships, and cardinalities, necessary to model the healthcare operations described in the scenario.   \n",
    "\n",
    "The healthcare data currently exists in the form of six csv files called  *Appointments\\_Data.csv, Prescription\\_Billing\\_Insurance\\_Data.csv, Service\\_Billing\\_Insurance\\_Data.csv, Medical\\_Appointments\\_Data.csv, Medical\\_Surgeries\\_Data.csv and Medical\\_Tests\\_Data.csv*. These files have all the existing records. The tables available in the csv files are unnormalised. The information about the different columns in them is given in Tables 1-6 (in the paper), respectively.\n",
    "\n",
    "(**10 marks**) Normalise the provided tables to the Third Normal Form (3NF), minimising data redundancy and ensuring data integrity. Demonstrate the steps involved in achieving 3NF, showing how you decomposed the tables through 1NF and 2NF. \n",
    "\n",
    "(**10 marks**) Finally, implement your 3NF schema in an SQLite database using SQL.\n",
    "Your answer should include the SQL statements needed to accomplish this step and populate the final tables with the appropriate data. \n",
    "\n",
    "Your submission should include the final SQLite database file. \n",
    "\n",
    "Your answer should clearly cover the following:\n",
    "* Any assumptions you are making about the given scenario;\n",
    "* The designated primary and foreign keys, existing relationships, and identified functional dependencies;\n",
    "* The steps followed and justifications for the decisions made.\n",
    " \n",
    "**World Limit**: 500 words. This limit applies only to the explanations. There is no limit on any associated code/SQL statements or figures."
   ]
  },
  {
   "cell_type": "markdown",
   "id": "43203df7",
   "metadata": {
    "id": "43203df7"
   },
   "source": [
    "**Write your answer here (text cell(s) to be used, as appropriate)**"
   ]
  },
  {
   "cell_type": "code",
   "execution_count": null,
   "id": "a33ca09c",
   "metadata": {
    "id": "a33ca09c"
   },
   "outputs": [],
   "source": [
    "### Write your answer here (code cell(s) to be used, as appropriate)\n"
   ]
  },
  {
   "cell_type": "markdown",
   "id": "56000f9f",
   "metadata": {
    "id": "56000f9f"
   },
   "source": [
    "----\n",
    "----\n"
   ]
  },
  {
   "cell_type": "markdown",
   "id": "bbd4f6c6",
   "metadata": {
    "id": "bbd4f6c6"
   },
   "source": [
    "## Task 3: Research Design, Implementation, and Results (45 Marks)"
   ]
  },
  {
   "cell_type": "markdown",
   "id": "26d4db00",
   "metadata": {
    "id": "26d4db00"
   },
   "source": [
    "Using the database schema designed in Task 2, develop, implement, and analyse **three** distinct modelling solutions (**15 marks each**) to address the Data Intelligence team's aim (as described in the scenario). The three solutions must collectively cover all three of the following categories: inferential statistics, supervised learning, and unsupervised learning, with each solution primarily focusing on one or a combination of these categories. The solutions should be of sufficient complexity to demonstrate a comprehensive understanding of the data and the problem. For each solution, include:\n",
    "\n",
    "* **Problem**: Clearly and concisely state the specific problem within the NHS context that your solution addresses.  \n",
    "* **Solution**: Detail the design of your solution, including the specific techniques used and how they are combined. Ensure that your design incorporates information from multiple tables in the database where relevant.\n",
    "* **Justification**: Explain why the selected inferential statistics, supervised learning algorithms, and/or unsupervised learning algorithms are appropriate for the specific problem being addressed.\n",
    "* **Implementation**: Provide well-commented and organised code (including SQL queries) used to implement your solution. Clearly indicate and justify any modifications made to the database schema or data.  Ensure that your code is reproducible.\n",
    "* **Results**: Present your findings in a clear and concise manner, using appropriate visualisations (charts, graphs, tables) as appropriate. Critically analyse your results, discussing how they can help the NHS address the stated problem. \n",
    "* **Limitations**: Discuss any limitations of your solution, including potential biases in the data, assumptions made, or areas where the solution could be improved.\n",
    "\n",
    "\n",
    "**World Limit**: 400 words per solution (1200 words in total for the three solutions). This limit applies only to the explanations. There is no limit on any associated code, commentary on the code, results generated as plots and tables, or figures."
   ]
  },
  {
   "cell_type": "markdown",
   "id": "VVfHwzLCX_NX",
   "metadata": {
    "id": "VVfHwzLCX_NX"
   },
   "source": [
    "**Write your answer here (text cell(s) to be used, as appropriate)**"
   ]
  },
  {
   "cell_type": "markdown",
   "id": "b5bb2245",
   "metadata": {},
   "source": [
    "### Modelling Solution 1: Statistical Analysis of Treatment Outcomes and Healthcare Utilization\n",
    "\n",
    "**Category:** Inferential Statistics\n",
    "\n",
    "#### Problem\n",
    "The NHS needs to understand the statistical relationships between patient demographics, treatment patterns, and health outcomes to optimize resource allocation and improve patient care quality. Specifically, we need to determine if there are significant differences in treatment outcomes across different hospitals, departments, and patient demographics.\n",
    "\n",
    "#### Solution\n",
    "\n",
    "Here we are trying to develop a comprehensive statistical analysis framework using:\n",
    "- ANOVA tests to compare treatment outcomes across hospitals and departments\n",
    "- Chi-square tests for categorical relationships (e.g., gender vs. treatment success)\n",
    "- Multiple regression analysis to identify factors affecting treatment costs and duration\n",
    "- Hypothesis testing for appointment wait times vs. patient satisfaction\n",
    "- Confidence interval estimation for key performance metrics\n",
    "\n",
    "#### Justification\n",
    "Proposed methods are well-established in the statistical science. They handle the complex, multi-table nature of healthcare data effectively.\n",
    "\n",
    "- ANOVA is appropriate for comparing means across multiple groups (hospitals/departments)\n",
    "- Regression analysis can identify key predictors of healthcare costs and outcomes\n",
    "- Hypothesis testing provides evidence-based insights for policy decisions\n",
    "\n",
    "\n",
    "#### Implementation Technologies\n",
    "We are using Python as a main tool for orchestration of tests. This language is historacly designed for scripting that it is way it is very popular in practical statistical science.\n",
    "\n",
    "- Python with scipy.stats, statsmodels\n",
    "- SQL queries joining Patients, Appointments, Surgeries, Tests, ServiceBillings, Hospitals, Departments\n",
    "- Pandas for data manipulation and aggregation\n",
    "- Matplotlib/Seaborn for statistical visualizations\n",
    "\n",
    "#### Expected Results\n",
    "- Statistical significance of hospital performance differences\n",
    "- Key demographic factors affecting treatment costs\n",
    "- Evidence-based recommendations for resource allocation\n",
    "- Performance benchmarks with confidence intervals\n",
    "\n",
    "#### Limitations\n",
    "As any other method, the proposed method has its limitations.\n",
    "- We have to assumes normal distribution for parametric tests\n",
    "- Cannot establish causation, only correlation\n",
    "- May require data transformation for non-normal distributions\n",
    "- Sample size limitations for smaller hospitals/departments\n",
    "\n",
    "\n",
    "#### Results\n",
    "\n",
    "We store code for sql requests and compute in `./solution-1/main.py`.\n",
    "\n",
    "We display all results in report `statistical_analysis_report.html` . Here are main insights:\n",
    "\n",
    "##### REGRESSION ANALYSIS\n",
    "\n",
    "This regression output provides insights into how different factors affect **treatment costs (Amount)** based on a linear model. Here's a step-by-step interpretation:\n",
    "\n",
    "**Model Summary**\n",
    "\n",
    "* **Dependent Variable**: `Amount` (treatment costs)\n",
    "* **Observations**: 81,521\n",
    "* **Features**: 6 predictors: `Age`, `Gender_F`, `Gender_M`, `Service_Appointment`, `Service_Surgery`, `Service_Test`\n",
    "* **R-squared**: **0.746**\n",
    "\n",
    "  * About **74.6%** of the variation in treatment costs is explained by the model—a **strong fit**.\n",
    "* **Adjusted R-squared**: Also **0.746**, indicating good generalizability.\n",
    "* **F-statistic**: Very high and significant (**p < 0.0001**), meaning **at least one predictor is significantly related to the cost**.\n",
    "\n",
    "---\n",
    "\n",
    "**Coefficients Interpretation**\n",
    "\n",
    "Each coefficient represents the **estimated change in treatment cost** for a 1-unit increase in the variable, holding others constant:\n",
    "\n",
    "| Variable                 | Coef    | P-value | Interpretation                                       |\n",
    "| ------------------------ | ------- | ------- | ---------------------------------------------------- |\n",
    "| **Intercept (const)**    | 555.72  | 0.000   | Baseline cost when all other vars = 0                |\n",
    "| **Age**                  | -0.03   | 0.684   | Not significant (age does **not** affect cost)       |\n",
    "| **Gender\\_F**            | 279.06  | 0.000   | Being female adds \\~\\$279 to cost vs baseline        |\n",
    "| **Gender\\_M**            | 276.65  | 0.000   | Being male adds \\~\\$277 to cost vs baseline          |\n",
    "| **Service\\_Appointment** | -645.47 | 0.000   | Appointments cost \\~\\$645 **less** than the baseline |\n",
    "| **Service\\_Surgery**     | 1756.73 | 0.000   | Surgery costs \\~\\$1757 **more** than baseline        |\n",
    "| **Service\\_Test**        | -555.55 | 0.000   | Tests cost \\~\\$556 **less** than baseline            |\n",
    "\n",
    "**Other Stats**\n",
    "\n",
    "* **Durbin-Watson: 1.99** → Residuals are not autocorrelated (ideal value is \\~2)\n",
    "* **Omnibus, Jarque-Bera**: Large → Residuals **not normally distributed**, but with large samples, this is often tolerated.\n",
    "* **Condition Number: 1.38e+17** → **Very high**, suggests **severe multicollinearity**—likely from including both gender dummies and all service types.\n",
    "\n",
    "**Key Takeaways**\n",
    "\n",
    "1. **Service type** is the strongest cost driver:\n",
    "\n",
    "   * Surgery increases cost substantially.\n",
    "   * Appointments and tests reduce cost vs the base category (possibly inpatient care or something omitted).\n",
    "2. **Gender appears significant**, though the inclusion of both male and female dummies may distort this. Recode one as the reference.\n",
    "3. **Age has no significant impact** on treatment cost.\n",
    "4. Model explains a large portion of variance in cost (**R² = 0.746**).\n",
    "\n",
    "\n",
    "##### CHI-SQUARE TESTS\n",
    "\n",
    "Chi-square Test - Gender vs Surgery Outcome:\n",
    "Chi-square statistic: 7.9468, p-value: 0.1592\n",
    "No significant association is found.\n",
    "\n",
    "\n",
    "##### ANOVA ANALYSIS\n",
    "ANOVA - Surgery Outcomes by Hospital:F-statistic: 1.0490, p-value: 0.3286\n",
    "No significant difference is found."
   ]
  },
  {
   "cell_type": "markdown",
   "id": "52a9714a",
   "metadata": {},
   "source": [
    "## Solution 2: Predictive Modeling for Patient Risk Assessment and Readmission Prevention\n",
    "\n",
    "**Category:** Supervised Learning\n",
    "\n",
    "**Problem:**\n",
    "The NHS needs to predict which patients are at high risk of readmission, complications, or poor treatment outcomes to enable proactive intervention and reduce healthcare costs while improving patient care.\n",
    "\n",
    "**Solution:**\n",
    "Develop a machine learning pipeline using:\n",
    "- Random Forest Classifier for readmission risk prediction\n",
    "- Gradient Boosting for treatment outcome prediction\n",
    "- Logistic Regression for appointment no-show prediction\n",
    "- Feature engineering from multiple tables (patient history, medications, demographics)\n",
    "- Cross-validation and hyperparameter tuning\n",
    "- Model interpretation using SHAP values\n",
    "\n",
    "**Justification:**\n",
    "- Random Forest handles mixed data types and provides feature importance\n",
    "- Gradient Boosting excels at capturing complex non-linear relationships\n",
    "- Ensemble methods reduce overfitting and improve generalization\n",
    "- These algorithms work well with healthcare data's inherent complexity and missing values\n",
    "\n",
    "**Implementation Technologies:**\n",
    "- Python with scikit-learn, XGBoost, LightGBM\n",
    "- SQL queries for feature extraction across MedicalRecords, Prescriptions, Tests, Surgeries\n",
    "- Feature engineering with pandas\n",
    "- Model evaluation with ROC curves, precision-recall curves\n",
    "- SHAP for model interpretability\n",
    "\n",
    "**Expected Results:**\n",
    "- Risk scores for individual patients\n",
    "- Feature importance rankings (e.g., age, medication history, previous surgeries)\n",
    "- Performance metrics (AUC, precision, recall, F1-score)\n",
    "- Actionable insights for clinical decision-making\n",
    "\n",
    "**Limitations:**\n",
    "- Requires sufficient historical data for training\n",
    "- May exhibit bias toward certain demographic groups\n",
    "- Model performance depends on data quality and completeness\n",
    "- Requires regular retraining as medical practices evolve\n",
    "\n",
    "### Results\n",
    "\n",
    "We show main results in a report file `./assets/report.html`. Here are some main findings:\n",
    "\n",
    "#### Model Performance\n",
    "Our analysis achieved excellent predictive performance across all three risk models:\n",
    "\n",
    "- **Readmission Risk Model (Random Forest)**: AUC Score: 0.992, Cross-validation: 0.991 ± 0.003\n",
    "- **Treatment Outcome Model (Gradient Boosting)**: AUC Score: 1.000, Cross-validation: 1.000 ± 0.000\n",
    "- **Appointment No-Show Model (Logistic Regression)**: AUC Score: 0.898, Cross-validation: 0.897 ± 0.004\n",
    "\n",
    "#### Risk Score Distribution\n",
    "Analysis of 30,000 patients revealed the following risk patterns:\n",
    "\n",
    "| Risk Type | Mean Score | High Risk (>0.7) | Baseline Rate |\n",
    "|-----------|------------|------------------|---------------|\n",
    "| Readmission | 0.120 | 3,085 patients | 9.0% (2,690/30,000) |\n",
    "| Poor Outcome | 0.134 | 4,017 patients | 13.4% (4,017/30,000) |\n",
    "| No-Show | 0.281 | 5,958 patients | 10.9% (3,284/30,000) |\n",
    "| **Overall Risk** | **0.178** | **1,205 patients** | **Combined metric** |\n",
    "\n",
    "#### Feature Importance Analysis\n",
    "The most influential predictors for each model were identified:\n",
    "\n",
    "**Readmission Risk (Top 5 Features):**\n",
    "1. UniqueDiagnoses (32.1%) - Number of different diagnoses\n",
    "2. TotalRecords (31.4%) - Total medical record entries\n",
    "3. TotalAppointments (16.5%) - Number of appointments\n",
    "4. DaysSinceTest (5.2%) - Time since last test\n",
    "5. TotalTests (4.9%) - Number of tests performed\n",
    "\n",
    "**Treatment Outcome Risk (Top 5 Features):**\n",
    "1. DaysSinceSurgery (44.6%) - Time since last surgery\n",
    "2. TotalRecords (22.4%) - Total medical record entries\n",
    "3. TotalSurgeries (15.1%) - Number of surgeries\n",
    "4. SuccessfulSurgeries (14.8%) - Number of successful surgeries\n",
    "5. UniqueSurgeryTypes (3.2%) - Variety of surgery types\n",
    "\n",
    "**No-Show Risk (Top 5 Features):**\n",
    "1. DaysSinceAppointment (202.2%) - Time since last appointment\n",
    "2. UniqueDiagnoses (179.0%) - Number of different diagnoses\n",
    "3. UniqueTestTypes (93.6%) - Variety of test types\n",
    "4. DaysSinceSurgery (35.4%) - Time since last surgery\n",
    "5. TotalTests (22.0%) - Number of tests performed\n",
    "\n",
    "#### Clinical Impact\n",
    "- **High Priority**: 1,205 patients identified for immediate intervention\n",
    "- **Medium Priority**: 1,054 patients requiring enhanced monitoring\n",
    "- **Low Risk**: 27,741 patients continuing standard care protocols\n",
    "\n",
    "The model successfully identified patients requiring different levels of clinical attention, enabling targeted resource allocation and proactive care management.\n",
    "\n",
    "#### Model Interpretability\n",
    "SHAP (SHapley Additive exPlanations) analysis provided detailed insights into how individual features contribute to risk predictions, ensuring transparency and clinical interpretability of the machine learning models.\n",
    "\n",
    "For detailed visualizations and comprehensive analysis, see the full report at `./assets/report.html`."
   ]
  },
  {
   "cell_type": "code",
   "execution_count": null,
   "id": "a9cc2086",
   "metadata": {
    "id": "a9cc2086"
   },
   "outputs": [],
   "source": [
    "### Write your answer here (code cell(s) to be used, as appropriate)\n"
   ]
  },
  {
   "cell_type": "markdown",
   "id": "3927cb4d",
   "metadata": {},
   "source": [
    "## Modelling Solution 3: Patient Segmentation and Healthcare Service Optimization\n",
    "\n",
    "**Category:** Unsupervised Learning\n",
    "\n",
    "#### Problem\n",
    "The NHS needs to identify distinct patient groups with similar healthcare needs and utilization patterns to optimize service delivery, resource planning, and personalized care strategies without relying on predefined categories.\n",
    "\n",
    "#### Solution\n",
    "Implement a comprehensive clustering and pattern discovery framework using:\n",
    "- K-means clustering for patient segmentation based on demographics and service utilization\n",
    "- Hierarchical clustering to understand patient group relationships\n",
    "- DBSCAN for identifying outlier patients with unusual healthcare patterns\n",
    "- Principal Component Analysis (PCA) for dimensionality reduction\n",
    "- Association rule mining for medication and treatment pattern discovery\n",
    "- Network analysis of patient-provider relationships\n",
    "\n",
    "#### Justification\n",
    "- K-means effectively segments patients into actionable groups\n",
    "- Hierarchical clustering reveals natural patient group hierarchies\n",
    "- DBSCAN identifies rare but important patient cases\n",
    "- PCA handles high-dimensional healthcare data effectively\n",
    "- Association rules discover hidden patterns in treatment combinations\n",
    "\n",
    "#### Implementation Technologies\n",
    "- Python with scikit-learn, scipy\n",
    "- SQL queries aggregating data from Patients, Appointments, Prescriptions, Tests, ServiceBillings\n",
    "- NetworkX for relationship analysis\n",
    "- t-SNE/UMAP for visualization of patient clusters\n",
    "- Apriori algorithm (mlxtend) for association rule mining\n",
    "\n",
    "#### Expected Results\n",
    "- 5-7 distinct patient segments with clear characteristics\n",
    "- Unusual patient cases requiring special attention\n",
    "- Medication and treatment association patterns\n",
    "- Network maps of patient-provider relationships\n",
    "\n",
    "#### Limitations\n",
    "- Cluster interpretation requires domain expertise\n",
    "- Results may be sensitive to feature scaling and selection\n",
    "- Number of clusters needs careful validation\n",
    "- Temporal patterns may not be fully captured\n",
    "- May miss rare but clinically important patient subtypes\n",
    "\n",
    "### Results\n",
    "\n",
    "We show our results in the report file `report.html`. Here are main findings:\n",
    "\n",
    "#### Segmentation\n",
    "\n",
    "Our analysis successfully identified **4 distinct patient clusters** from 25,000 patients using 17 key features:\n",
    "\n",
    "Cluster distribution:\n",
    "- **Cluster 0** (Primary Care Patients): 23,777 patients (95.1%) – representing the majority population with standard healthcare utilization patterns\n",
    "- **Cluster 1** (High-Intensity Care): 644 patients (2.6%) – patients with intensive healthcare needs requiring specialized attention\n",
    "- **Cluster 2** (Moderate Care): 396 patients (1.6%) – patients with moderate healthcare utilization above average\n",
    "- **Cluster 3** (Specialized Care): 183 patients (0.7%) – patients with specific specialized healthcare requirements\n",
    "\n",
    "The clustering was optimized using PCA dimensionality reduction (21 → 10 components) and validated through silhouette analysis to determine the optimal number of clusters.\n",
    "\n",
    "#### Unusual patient cases\n",
    "\n",
    "DBSCAN analysis identified **566 outlier patients** (2.8%) with unusual healthcare patterns that don't fit into standard clusters. These patients may require:\n",
    "- Personalized care plans\n",
    "- Special resource allocation\n",
    "- Investigation for rare conditions or complex comorbidities\n",
    "- Enhanced monitoring and follow-up protocols\n",
    "\n",
    "#### Medication and treatment association patterns\n",
    "\n",
    "Association rule mining analysis found limited frequent medication patterns with current thresholds, suggesting:\n",
    "- Highly individualized medication patterns across the patient population\n",
    "- Need for adjusted minimum support thresholds for pattern discovery\n",
    "- Potential for specialized analysis within specific patient clusters\n",
    "- Opportunity for targeted medication optimization studies\n",
    "\n",
    "#### Network maps of patient-provider relationships\n",
    "\n",
    "Network analysis revealed a complex healthcare ecosystem with:\n",
    "- **427,752 network nodes** representing patients and healthcare professionals\n",
    "- **554,387 connections** showing patient-provider relationships\n",
    "- Centrality analysis identifying key healthcare professionals with high patient loads. For example, Ms Sheila Simpson, Dermatologist, has the highest centrality level of 0.000690.\n",
    "- Network structure insights for optimizing referral patterns and resource distribution\n",
    "\n",
    "**Generated Assets:**\n",
    "- The main report file (`report.html`)\n",
    "- Interactive cluster dashboard (`cluster_dashboard.html`)\n",
    "- Detailed statistical analysis (`cluster_statistics.csv`) \n",
    "- Information about outlier patients (`dbscan_outliers.csv`)\n",
    "- Visualization files for PCA analysis, cluster characteristics, and network maps\n",
    "- Comprehensive segmentation report with actionable insights"
   ]
  },
  {
   "cell_type": "markdown",
   "id": "a552f4c6",
   "metadata": {
    "id": "a552f4c6"
   },
   "source": [
    "----\n",
    "----"
   ]
  },
  {
   "cell_type": "markdown",
   "id": "f808a0fa",
   "metadata": {
    "id": "f808a0fa"
   },
   "source": [
    "## Task 4: Ethics and Analysis (10 Marks)"
   ]
  },
  {
   "cell_type": "markdown",
   "id": "c71f250b",
   "metadata": {
    "id": "c71f250b"
   },
   "source": [
    "**I.** (**5 marks**) Discuss the ethical implications of your modelling solutions given in Task 3. How can these ethical challenges be mitigated in a real-world NHS setting?\n",
    "    Your answer to this question must not exceed **200 words**."
   ]
  },
  {
   "cell_type": "markdown",
   "id": "727bb0a8",
   "metadata": {},
   "source": [
    "**Write your answer here (text cell(s) to be used, as appropriate)**"
   ]
  },
  {
   "cell_type": "code",
   "execution_count": null,
   "id": "d6768281",
   "metadata": {},
   "outputs": [],
   "source": [
    "### Write your answer here (code cell(s) to be used, as appropriate)\n"
   ]
  },
  {
   "cell_type": "markdown",
   "id": "af9dfe66",
   "metadata": {},
   "source": [
    "    \n",
    "**II.** (**5 marks**) Write a Python script **using SQL** to analyse the database from Task 2 and generate results showing: *(a)* The distribution of hospitals across cities. *(b)* For each hospital, its name, city, the number of departments, and the number of patients who prefer that hospital, using outer join. Sort the hospitals within each city by the number of preferred patients in descending order."
   ]
  },
  {
   "cell_type": "markdown",
   "id": "sXb02r__Ykgr",
   "metadata": {
    "id": "sXb02r__Ykgr"
   },
   "source": [
    "**Write your answer here (text cell(s) to be used, as appropriate)**"
   ]
  },
  {
   "cell_type": "code",
   "execution_count": null,
   "id": "521811e9",
   "metadata": {
    "id": "521811e9"
   },
   "outputs": [],
   "source": [
    "### Write your answer here (code cell(s) to be used, as appropriate)\n"
   ]
  },
  {
   "cell_type": "markdown",
   "id": "d2dc2a18",
   "metadata": {
    "id": "d2dc2a18"
   },
   "source": [
    "----\n",
    "----"
   ]
  },
  {
   "cell_type": "markdown",
   "id": "dce07aa2",
   "metadata": {
    "id": "dce07aa2"
   },
   "source": [
    "## Overall Academic Quality (10 Marks)\n",
    "10 marks are allocated for the clarity and cohesiveness of your answers (both text and code) across all tasks with appropriate, relevant and effective analysis and presentation of the results."
   ]
  },
  {
   "cell_type": "markdown",
   "id": "9440ef2b",
   "metadata": {
    "id": "9440ef2b"
   },
   "source": [
    "## Deliverables\n",
    "\n",
    "You should submit the following to the submission point:\n",
    "\n",
    "1. the SQLite database produced in Task 2;\n",
    "2. the completed Jupyter notebook (both .ipynb and HTML files) containing solutions for all the tasks. A template has been provided on VLE;\n",
    "3. any figures or diagrams that are included in your answers in the Jupyter notebook.\n",
    "\n",
    "\n",
    "For each task where text is required, we have provided guidelines above on the suggested word counts. Exceeding the word count will result in any work beyond the word count being disregarded when assessing."
   ]
  }
 ],
 "metadata": {
  "colab": {
   "provenance": []
  },
  "kernelspec": {
   "display_name": "Python 3 (ipykernel)",
   "language": "python",
   "name": "python3"
  },
  "language_info": {
   "codemirror_mode": {
    "name": "ipython",
    "version": 3
   },
   "file_extension": ".py",
   "mimetype": "text/x-python",
   "name": "python",
   "nbconvert_exporter": "python",
   "pygments_lexer": "ipython3",
   "version": "3.13.1"
  }
 },
 "nbformat": 4,
 "nbformat_minor": 5
}
